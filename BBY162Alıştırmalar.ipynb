{
  "nbformat": 4,
  "nbformat_minor": 0,
  "metadata": {
    "colab": {
      "provenance": [],
      "mount_file_id": "14BQAdM5Iq6nEel1X54Sg1NKeTJlYtUMA",
      "authorship_tag": "ABX9TyNRkzyCiAxWJTSNQgKxApzg",
      "include_colab_link": true
    },
    "kernelspec": {
      "name": "python3",
      "display_name": "Python 3"
    },
    "language_info": {
      "name": "python"
    }
  },
  "cells": [
    {
      "cell_type": "markdown",
      "metadata": {
        "id": "view-in-github",
        "colab_type": "text"
      },
      "source": [
        "<a href=\"https://colab.research.google.com/github/bilgehari/hu-bby-162-2023/blob/main/BBY162Al%C4%B1%C5%9Ft%C4%B1rmalar.ipynb\" target=\"_parent\"><img src=\"https://colab.research.google.com/assets/colab-badge.svg\" alt=\"Open In Colab\"/></a>"
      ]
    },
    {
      "cell_type": "code",
      "source": [],
      "metadata": {
        "id": "nkqKCKBMoyYn"
      },
      "execution_count": null,
      "outputs": []
    },
    {
      "cell_type": "code",
      "source": [
        "from google.colab import drive\n",
        "drive.mount('/content/drive')\n",
        "\n",
        "dosya = \"/content/verii.txt.txt\"\n",
        "\n",
        "#Listeyi yazdır\n",
        "def listele():\n",
        "  islem = open(dosya, \"r\")\n",
        "  for satir in islem:\n",
        "    print(satir)\n",
        "  islem.close()\n",
        "  menu()\n",
        "\n",
        "#Listeye ekle\n",
        "def ekle():\n",
        "  islem = open(dosya, \"a\")\n",
        "  yap = input(\"İşlemi giriniz: \")\n",
        "  islem.write(yap + \"\\n\")\n",
        "  islem.close()\n",
        "  menu()\n",
        "\n",
        "#Listeyi temizle\n",
        "def temizle():\n",
        "  islem = open(dosya, \"w\")\n",
        "  islem.close()\n",
        "  menu()\n",
        "\n",
        "def menu():\n",
        "  print(\"Menü: 0)Çıkış - 1)Listele - 2)Ekle - 3)Temizle\")\n",
        "  secim = input(\"menü ögesi seçiniz: \")\n",
        "  if secim == \"0\":\n",
        "    print(\"Program sonlandırıldı...!\")\n",
        "  elif secim == \"1\":\n",
        "    listele()\n",
        "  elif secim == \"2\":\n",
        "    ekle()\n",
        "  elif secim == \"3\":\n",
        "    temizle()\n",
        "  else:\n",
        "    print(\"Lütfen menü ögesi seçiniz!\")\n",
        "    menu()\n",
        "\n",
        "menu()\n",
        "\n",
        "\n",
        "\n"
      ],
      "metadata": {
        "colab": {
          "base_uri": "https://localhost:8080/",
          "height": 432
        },
        "id": "yq0laLteo6FN",
        "outputId": "e87b225c-e3e2-46b6-dd65-2e6fa81eeebe"
      },
      "execution_count": null,
      "outputs": [
        {
          "name": "stdout",
          "output_type": "stream",
          "text": [
            "Drive already mounted at /content/drive; to attempt to forcibly remount, call drive.mount(\"/content/drive\", force_remount=True).\n",
            "Menü: 0)Çıkış - 1)Listele - 2)Ekle - 3)Temizle\n",
            "menü ögesi seçiniz: 1\n"
          ]
        },
        {
          "output_type": "error",
          "ename": "FileNotFoundError",
          "evalue": "ignored",
          "traceback": [
            "\u001b[0;31m---------------------------------------------------------------------------\u001b[0m",
            "\u001b[0;31mFileNotFoundError\u001b[0m                         Traceback (most recent call last)",
            "\u001b[0;32m<ipython-input-1-b6a84019302d>\u001b[0m in \u001b[0;36m<cell line: 43>\u001b[0;34m()\u001b[0m\n\u001b[1;32m     41\u001b[0m     \u001b[0mmenu\u001b[0m\u001b[0;34m(\u001b[0m\u001b[0;34m)\u001b[0m\u001b[0;34m\u001b[0m\u001b[0;34m\u001b[0m\u001b[0m\n\u001b[1;32m     42\u001b[0m \u001b[0;34m\u001b[0m\u001b[0m\n\u001b[0;32m---> 43\u001b[0;31m \u001b[0mmenu\u001b[0m\u001b[0;34m(\u001b[0m\u001b[0;34m)\u001b[0m\u001b[0;34m\u001b[0m\u001b[0;34m\u001b[0m\u001b[0m\n\u001b[0m\u001b[1;32m     44\u001b[0m \u001b[0;34m\u001b[0m\u001b[0m\n\u001b[1;32m     45\u001b[0m \u001b[0;34m\u001b[0m\u001b[0m\n",
            "\u001b[0;32m<ipython-input-1-b6a84019302d>\u001b[0m in \u001b[0;36mmenu\u001b[0;34m()\u001b[0m\n\u001b[1;32m     32\u001b[0m     \u001b[0mprint\u001b[0m\u001b[0;34m(\u001b[0m\u001b[0;34m\"Program sonlandırıldı...!\"\u001b[0m\u001b[0;34m)\u001b[0m\u001b[0;34m\u001b[0m\u001b[0;34m\u001b[0m\u001b[0m\n\u001b[1;32m     33\u001b[0m   \u001b[0;32melif\u001b[0m \u001b[0msecim\u001b[0m \u001b[0;34m==\u001b[0m \u001b[0;34m\"1\"\u001b[0m\u001b[0;34m:\u001b[0m\u001b[0;34m\u001b[0m\u001b[0;34m\u001b[0m\u001b[0m\n\u001b[0;32m---> 34\u001b[0;31m     \u001b[0mlistele\u001b[0m\u001b[0;34m(\u001b[0m\u001b[0;34m)\u001b[0m\u001b[0;34m\u001b[0m\u001b[0;34m\u001b[0m\u001b[0m\n\u001b[0m\u001b[1;32m     35\u001b[0m   \u001b[0;32melif\u001b[0m \u001b[0msecim\u001b[0m \u001b[0;34m==\u001b[0m \u001b[0;34m\"2\"\u001b[0m\u001b[0;34m:\u001b[0m\u001b[0;34m\u001b[0m\u001b[0;34m\u001b[0m\u001b[0m\n\u001b[1;32m     36\u001b[0m     \u001b[0mekle\u001b[0m\u001b[0;34m(\u001b[0m\u001b[0;34m)\u001b[0m\u001b[0;34m\u001b[0m\u001b[0;34m\u001b[0m\u001b[0m\n",
            "\u001b[0;32m<ipython-input-1-b6a84019302d>\u001b[0m in \u001b[0;36mlistele\u001b[0;34m()\u001b[0m\n\u001b[1;32m      6\u001b[0m \u001b[0;31m#Listeyi yazdır\u001b[0m\u001b[0;34m\u001b[0m\u001b[0;34m\u001b[0m\u001b[0m\n\u001b[1;32m      7\u001b[0m \u001b[0;32mdef\u001b[0m \u001b[0mlistele\u001b[0m\u001b[0;34m(\u001b[0m\u001b[0;34m)\u001b[0m\u001b[0;34m:\u001b[0m\u001b[0;34m\u001b[0m\u001b[0;34m\u001b[0m\u001b[0m\n\u001b[0;32m----> 8\u001b[0;31m   \u001b[0mislem\u001b[0m \u001b[0;34m=\u001b[0m \u001b[0mopen\u001b[0m\u001b[0;34m(\u001b[0m\u001b[0mdosya\u001b[0m\u001b[0;34m,\u001b[0m \u001b[0;34m\"r\"\u001b[0m\u001b[0;34m)\u001b[0m\u001b[0;34m\u001b[0m\u001b[0;34m\u001b[0m\u001b[0m\n\u001b[0m\u001b[1;32m      9\u001b[0m   \u001b[0;32mfor\u001b[0m \u001b[0msatir\u001b[0m \u001b[0;32min\u001b[0m \u001b[0mislem\u001b[0m\u001b[0;34m:\u001b[0m\u001b[0;34m\u001b[0m\u001b[0;34m\u001b[0m\u001b[0m\n\u001b[1;32m     10\u001b[0m     \u001b[0mprint\u001b[0m\u001b[0;34m(\u001b[0m\u001b[0msatir\u001b[0m\u001b[0;34m)\u001b[0m\u001b[0;34m\u001b[0m\u001b[0;34m\u001b[0m\u001b[0m\n",
            "\u001b[0;31mFileNotFoundError\u001b[0m: [Errno 2] No such file or directory: '/content/verii.txt.txt'"
          ]
        }
      ]
    },
    {
      "cell_type": "code",
      "source": [
        "import random\n",
        "\n",
        "kelimeler = [\"yüzme\", \"koşu\", \"triatlon\", \"bisiklet\"]\n",
        "\n",
        "def adam_asmaca():\n",
        "    canlar = {\"Basit\": 5, \"Orta\": 3, \"İleri\": 1}\n",
        "    while True:\n",
        "        seviye = input(\"Oynamak istediğiniz seviyeyi seçiniz (Basit, Orta, İleri): \")\n",
        "        if seviye in canlar:\n",
        "            adamCan = canlar[seviye]\n",
        "            break\n",
        "        else:\n",
        "            print(\"Geçersiz seviye! Lütfen tekrar deneyin.\")\n",
        "\n",
        "    kategori = random.choice(kelimeler)\n",
        "    secilenKelime = random.choice(kelimeler)\n",
        "    dizilenKelime = [\"_\" for harf in secilenKelime]\n",
        "\n",
        "    print(\"Kategori: \", kategori)\n",
        "    print(\"İpucu: Kelimenin uzunluğu\", len(secilenKelime))\n",
        "    print(dizilenKelime)\n",
        "\n",
        "    while adamCan > 0:\n",
        "        girilenHarf = input(\"Bir harf giriniz: \").lower()\n",
        "        if girilenHarf in secilenKelime:\n",
        "            for i in range(len(secilenKelime)):\n",
        "                if secilenKelime[i] == girilenHarf:\n",
        "                    dizilenKelime[i] = girilenHarf\n",
        "            if \"_\" not in dizilenKelime:\n",
        "                print(\"Tebrikler! Kelimeyi doğru tahmin ettiniz.\")\n",
        "                break\n",
        "        else:\n",
        "            adamCan -= 1\n",
        "            print(\"Yanlış tahmin! Kalan can:\", adamCan)\n",
        "\n",
        "        print(dizilenKelime)\n",
        "\n",
        "    if adamCan == 0:\n",
        "        print(\"Malesef, canlarınız tükendi. Doğru kelime:\", secilenKelime)\n",
        "\n",
        "    yenidenOyna = input(\"Tekrar oynamak istiyor musunuz? (E/H)\").lower()\n",
        "    if yenidenOyna == \"e\":\n",
        "        adam_asmaca()\n",
        "    else:\n",
        "        print(\"Oynadığınız için teşekkürler!\")\n",
        "\n",
        "adam_asmaca()\n"
      ],
      "metadata": {
        "colab": {
          "base_uri": "https://localhost:8080/"
        },
        "id": "jiYII7-q_4zh",
        "outputId": "4bd9bd81-eddc-4d64-a82a-4fc8110b5faa"
      },
      "execution_count": null,
      "outputs": [
        {
          "output_type": "stream",
          "name": "stdout",
          "text": [
            "Oynamak istediğiniz seviyeyi seçiniz (Basit, Orta, İleri): Basit\n",
            "Kategori:  bisiklet\n",
            "İpucu: Kelimenin uzunluğu 8\n",
            "['_', '_', '_', '_', '_', '_', '_', '_']\n",
            "Bir harf giriniz: t\n",
            "['_', '_', '_', '_', '_', '_', '_', 't']\n",
            "Bir harf giriniz: r\n",
            "Yanlış tahmin! Kalan can: 4\n",
            "['_', '_', '_', '_', '_', '_', '_', 't']\n",
            "Bir harf giriniz: a\n",
            "Yanlış tahmin! Kalan can: 3\n",
            "['_', '_', '_', '_', '_', '_', '_', 't']\n",
            "Bir harf giriniz: b\n",
            "['b', '_', '_', '_', '_', '_', '_', 't']\n",
            "Bir harf giriniz: i\n",
            "['b', 'i', '_', 'i', '_', '_', '_', 't']\n",
            "Bir harf giriniz: k\n",
            "['b', 'i', '_', 'i', 'k', '_', '_', 't']\n",
            "Bir harf giriniz: e\n",
            "['b', 'i', '_', 'i', 'k', '_', 'e', 't']\n",
            "Bir harf giriniz: t\n",
            "['b', 'i', '_', 'i', 'k', '_', 'e', 't']\n",
            "Bir harf giriniz: s\n",
            "['b', 'i', 's', 'i', 'k', '_', 'e', 't']\n",
            "Bir harf giriniz: l\n",
            "Tebrikler! Kelimeyi doğru tahmin ettiniz.\n",
            "Tekrar oynamak istiyor musunuz? (E/H)H\n",
            "Oynadığınız için teşekkürler!\n"
          ]
        }
      ]
    },
    {
      "cell_type": "code",
      "source": [
        "from random import choice\n",
        "\n",
        "def adam_asmaca():\n",
        "    adamCan = 3\n",
        "    kelimeler = [\"bisiklet\", \"triatlon\", \"yüzme\", \"koşu\"]\n",
        "    secilenKelime = choice(kelimeler)\n",
        "    print(secilenKelime)\n",
        "    dizilenKelime = []\n",
        "    for diz in secilenKelime:\n",
        "        dizilenKelime.append(\"_\")\n",
        "    print(dizilenKelime)\n",
        "\n",
        "    while adamCan > 0:\n",
        "        girilenHarf = input(\"Bir harf giriniz: \")\n",
        "        canKontrol = girilenHarf in secilenKelime\n",
        "        if canKontrol == False:\n",
        "            adamCan -= 1\n",
        "        i = 0\n",
        "        for kontrol in secilenKelime:\n",
        "            if secilenKelime[i] == girilenHarf:\n",
        "                dizilenKelime[i] = girilenHarf\n",
        "            i += 1\n",
        "        print(dizilenKelime)\n",
        "        print(\"Kalan can: \" + str(adamCan))\n",
        "\n",
        "adam_asmaca()\n"
      ],
      "metadata": {
        "id": "7lHORw7x4Wbe"
      },
      "execution_count": null,
      "outputs": []
    },
    {
      "cell_type": "code",
      "source": [
        "from random import choice\n",
        "\n",
        "def play_hangman():\n",
        "    adamCan = 3\n",
        "    kelimeler = [\"bisiklet\", \"triatlon\", \"yüzme\", \"koşu\"]\n",
        "    secilenKelime = choice(kelimeler)\n",
        "    dizilenKelime = [\"_\" for _ in range(len(secilenKelime))]\n",
        "    print(dizilenKelime)\n",
        "\n",
        "    while adamCan > 0:\n",
        "        girilenHarf = input(\"Bir harf giriniz: \")\n",
        "        canKontrol = girilenHarf in secilenKelime\n",
        "        if canKontrol == False:\n",
        "            adamCan -= 1\n",
        "        i = 0\n",
        "        for kontrol in secilenKelime:\n",
        "            if secilenKelime[i] == girilenHarf:\n",
        "                dizilenKelime[i] = girilenHarf\n",
        "            i += 1\n",
        "        print(dizilenKelime)\n",
        "        print(f\"Kalan can: {adamCan}\")\n",
        "        if \"_\" not in dizilenKelime:\n",
        "            print(\"Tebrikler! Kelimeyi doğru tahmin ettiniz.\")\n",
        "            return\n",
        "\n",
        "    print(f\"Maalesef hakkınız bitti. Doğru kelime '{secilenKelime}' idi.\")\n"
      ],
      "metadata": {
        "id": "oSbADir8zSC_"
      },
      "execution_count": null,
      "outputs": []
    },
    {
      "cell_type": "code",
      "source": [
        "print(\"a\"+\"b\")\n",
        "x= \"akcde\"\n",
        "x[0:2]"
      ],
      "metadata": {
        "colab": {
          "base_uri": "https://localhost:8080/",
          "height": 53
        },
        "id": "1lhpNVI3LWqJ",
        "outputId": "28bea888-4780-4a93-9894-08aa6a98b18b"
      },
      "execution_count": null,
      "outputs": [
        {
          "output_type": "stream",
          "name": "stdout",
          "text": [
            "ab\n"
          ]
        },
        {
          "output_type": "execute_result",
          "data": {
            "text/plain": [
              "'ak'"
            ],
            "application/vnd.google.colaboratory.intrinsic+json": {
              "type": "string"
            }
          },
          "metadata": {},
          "execution_count": 3
        }
      ]
    },
    {
      "cell_type": "markdown",
      "source": [
        "while true döngüsü ile bir oyun tasarla, doğru kelimeyi bulmak için 5 hakkın var."
      ],
      "metadata": {
        "id": "Lu76BOXZVcjJ"
      }
    },
    {
      "cell_type": "code",
      "source": [
        "kelime = \"bilge\"\n",
        "\n",
        "hak = 5\n",
        "while True:\n",
        "  tahmin = input(\"Kelimeyi tahmin ediniz: \")\n",
        "\n",
        "  if tahmin == kelime:\n",
        "    print(\"Tebrikler kazandınız!\")\n",
        "    break\n",
        "\n",
        "  hak-= 1\n",
        "  print(\"Yanlış tahmin, tekrar deneyiniz\", hak)\n",
        "\n",
        "  if hak== 0 :\n",
        "    print(\"Hakkınız bitti, doğru kelime = \", kelime )\n",
        "    break"
      ],
      "metadata": {
        "id": "Fb1EnxHYVYN5"
      },
      "execution_count": null,
      "outputs": []
    },
    {
      "cell_type": "markdown",
      "source": [
        "\"while\" döngüsü kullanarak bir tahmin oyunu tasarla. Bu tahmin oyununda, önceden belirlenmiş olan kelime ile klavyeden girilen kelime karşılaştırılmalı, tahmin doğru ise oyun \"Bildiniz..!\" mesajı ile sonlanmalı, yanlış ise tahmin hakkı bir daha verilmeli."
      ],
      "metadata": {
        "id": "kocdWAB4Sii_"
      }
    },
    {
      "cell_type": "code",
      "source": [
        "#Tahmin Oyunu\n",
        "kelime = \"bilgi\"\n",
        "print(\"******************OYUNA HOŞGELDİN**********************\")\n",
        "tahmin= input(\"Lütfen tahmininizi giriniz: \")\n",
        "while tahmin != kelime :\n",
        "  print(\"Bilemediniz!\")\n",
        "  tahmin= input(\"Kelimeyi tekrar giriniz: \")\n",
        "\n",
        "else:\n",
        "  print(\"Bildiniz!\")\n"
      ],
      "metadata": {
        "id": "MJgsgUuNSyMH"
      },
      "execution_count": null,
      "outputs": []
    },
    {
      "cell_type": "code",
      "source": [
        "#Menemen Tarifinde Continue Kullanımı\n",
        "istenmeyen = input(\"Tarifte yer almasını istemediğiniz malzemeyi yazınız: \")\n",
        "malzemeler = [\"Yumurta\", \"Tuz\", \"Karabiber\", \"Soğan\"]\n",
        "\n",
        "print(\"Malzeme listesi\")\n",
        "for index, malzeme in enumerate(malzemeler):\n",
        "  if istenmeyen == malzeme:\n",
        "    continue\n",
        "  print(str(index+1) +\". \"+ malzeme)"
      ],
      "metadata": {
        "colab": {
          "base_uri": "https://localhost:8080/"
        },
        "id": "WsfA3urEtLlZ",
        "outputId": "7ca96d96-fba1-4d30-b70f-17d0301b5306"
      },
      "execution_count": null,
      "outputs": [
        {
          "output_type": "stream",
          "name": "stdout",
          "text": [
            "Tarifte yer almasını istemediğiniz malzemeyi yazınız: Tuz\n",
            "Malzeme listesi\n",
            "1. Yumurta\n",
            "3. Karabiber\n",
            "4. Soğan\n"
          ]
        }
      ]
    },
    {
      "cell_type": "code",
      "source": [
        "#Tahmin Oyunu Çoklu Cevap\n",
        "\n",
        "print(\"3 spor dalının aynı anda koşulduğu branşa ne denir?\")\n",
        "cevaplar = [\"triatlon\", \"tri\", \"triathlon\", \"üçlüspor\"]\n",
        "\n",
        "while True:\n",
        "  yanit = input(\"Yanıtınızı giriniz: \").lower()\n",
        "  if yanit in cevaplar:\n",
        "    print(\"Bravo doğru bildiniz!\")\n",
        "    break\n",
        "  else:\n",
        "    print(\"Yanlış cevap, lütfen yeniden deneyiniz!\")\n",
        ""
      ],
      "metadata": {
        "id": "CRAiBQPKtBTD"
      },
      "execution_count": null,
      "outputs": []
    },
    {
      "cell_type": "code",
      "source": [
        "#Tahmin Oyunu Tek Cevap\n",
        "\n",
        "print(\"3 spor dalının aynı anda koşulduğu branşa ne denir?\")\n",
        "cevap = \"triatlon\"\n",
        "yanit = input(\"Yanıtınız: \").lower()\n",
        "\n",
        "while yanit != cevap:\n",
        "  yanit = input(\"Yanlış, yeniden yanıtlayınız: \")\n",
        "\n",
        "print(\"Tebrikler, bildiniz..!\")"
      ],
      "metadata": {
        "colab": {
          "base_uri": "https://localhost:8080/"
        },
        "id": "xJUDv1thsZft",
        "outputId": "e900a2bb-1a05-444a-dbee-feaece6bf388"
      },
      "execution_count": null,
      "outputs": [
        {
          "output_type": "stream",
          "name": "stdout",
          "text": [
            "3 spor dalının aynı anda koşulduğu branşa ne denir?\n",
            "Yanıtınız: trjrjrj\n",
            "Yanlış, yeniden yanıtlayınız: triatlon\n",
            "Tebrikler, bildiniz..!\n"
          ]
        }
      ]
    },
    {
      "cell_type": "markdown",
      "source": [
        "enumerate kelimesi İngilizce \"numaralanırmak\" kelimesinin karşılığıdır. Bu fonksiyonun görevi de ismi ile oldukça benzerlik göstermektedir. enumerate fonksiyonu, nesneleri numaralandırmak için kullanılır. Daha açık ifade etmek gerekirse bir listedeki hem elemanı hem de indeksi getirir."
      ],
      "metadata": {
        "id": "c6H5-9OosFB6"
      }
    },
    {
      "cell_type": "code",
      "source": [
        "#For ve If ile DY testi\n",
        "\n",
        "puan = 0\n",
        "sorular = [\"Birinci soru...\",\"İkinci soru...\",\"Üçüncü soru...\",\"Dördüncü soru...\",\"Beşinci soru...\"]\n",
        "cevaplar = [\"d\",\"d\",\"y\",\"y\",\"d\"]\n",
        "\n",
        "print(\"::: DY testine hoşgeldiniz :::\")\n",
        "print(\"------------------------------\")\n",
        "\n",
        "for i, soru in enumerate(sorular):\n",
        "  print(str(i+1) +\". \" + soru)\n",
        "  cevap = input(\"Cevabınızı giriniz(d/y): \")\n",
        "  if cevap == cevaplar[i]:\n",
        "    puan +=1\n",
        "    print(\"Doğru bildiniz\")\n",
        "  else:\n",
        "    print(\"Yanıtınız yanlış\")\n",
        "\n",
        "print(\"Testi tamamladınız!\")\n",
        "print(\"Puanınız: \" + str(puan))"
      ],
      "metadata": {
        "id": "bATVxEc1rtrM",
        "colab": {
          "base_uri": "https://localhost:8080/"
        },
        "outputId": "53c1a0e2-5ce3-42be-be2f-504710309700"
      },
      "execution_count": null,
      "outputs": [
        {
          "output_type": "stream",
          "name": "stdout",
          "text": [
            "::: DY testine hoşgeldiniz :::\n",
            "------------------------------\n",
            "1. Birinci soru...\n",
            "Cevabınızı giriniz(d/y): d\n",
            "Doğru bildiniz\n",
            "2. İkinci soru...\n",
            "Cevabınızı giriniz(d/y): y\n",
            "Yanıtınız yanlış\n",
            "3. Üçüncü soru...\n",
            "Cevabınızı giriniz(d/y): y\n",
            "Doğru bildiniz\n",
            "4. Dördüncü soru...\n",
            "Cevabınızı giriniz(d/y): y\n",
            "Doğru bildiniz\n",
            "5. Beşinci soru...\n",
            "Cevabınızı giriniz(d/y): y\n",
            "Yanıtınız yanlış\n",
            "Testi tamamladınız!\n",
            "Puanınız: 3\n"
          ]
        }
      ]
    },
    {
      "cell_type": "code",
      "source": [
        "metin = \"Merhaba benim adım Bilge!\"\n",
        "\n",
        "for karakter in metin:\n",
        "  print(karakter)"
      ],
      "metadata": {
        "colab": {
          "base_uri": "https://localhost:8080/"
        },
        "id": "rA4E_e-Arn0e",
        "outputId": "75250341-0f72-4f8f-f744-16a91c84dffc"
      },
      "execution_count": null,
      "outputs": [
        {
          "output_type": "stream",
          "name": "stdout",
          "text": [
            "M\n",
            "e\n",
            "r\n",
            "h\n",
            "a\n",
            "b\n",
            "a\n",
            " \n",
            "b\n",
            "e\n",
            "n\n",
            "i\n",
            "m\n",
            " \n",
            "a\n",
            "d\n",
            "ı\n",
            "m\n",
            " \n",
            "B\n",
            "i\n",
            "l\n",
            "g\n",
            "e\n",
            "!\n"
          ]
        }
      ]
    },
    {
      "cell_type": "code",
      "source": [
        "for sayi in range(3):\n",
        "  print(sayi+1)\n",
        "  test = input(\"Giriş yapınız: \")\n",
        "  print(\"*****\")\n",
        "print(\"Program tamamlandı!\")\n",
        ""
      ],
      "metadata": {
        "colab": {
          "base_uri": "https://localhost:8080/"
        },
        "id": "7WGUEm4JrWRg",
        "outputId": "c5872275-3a4a-43d8-b57d-ef29c561eb8d"
      },
      "execution_count": null,
      "outputs": [
        {
          "output_type": "stream",
          "name": "stdout",
          "text": [
            "1\n",
            "Giriş yapınız: 1\n",
            "*****\n",
            "2\n",
            "Giriş yapınız: 2\n",
            "*****\n",
            "3\n",
            "Giriş yapınız: 3\n",
            "*****\n",
            "Program tamamlandı!\n"
          ]
        }
      ]
    },
    {
      "cell_type": "markdown",
      "source": [
        "Klavyeden girilen yaş bilgisini kullanarak ekrana aşağıdaki mesajları yazdır:\n",
        "\n",
        "21 yaş altı ve 64 yaş üstü kişilere: \"Sokağa çıkma yasağı bulunmaktadır!\" Diğer tüm kişilere: \"Sokağa çıkma yasağı yoktur!\" Klavyeden yaş harici bir bilgi girişi yapıldığında: \"Yaşınızı rakam olarak giriniz!\"\n",
        "\n",
        "NOT: isdigit Fonksiyona geçirilen c parametre değerinin bir rakam olup olmadığını kontrol eder. c: İşlem yapılacak karakter değeridir. Eğer karakter bir rakam ise sıfır olmayan bir değer, aksi takdirde 0 değerini geri döndürür."
      ],
      "metadata": {
        "id": "Mh5Ejs2qmjO6"
      }
    },
    {
      "cell_type": "code",
      "source": [
        "yas = input(\"Yaşınızı giriniz: \")\n",
        "\n",
        "if yas.isdigit():\n",
        "  yas = int(yas)\n",
        "  if yas < 21 or yas > 64:\n",
        "    print(\"Sokağa çıkma yasağı bulunmaktadır!\")\n",
        "  else:\n",
        "    print(\"Sokağa çıkma yasağı yoktur!\")\n",
        "else:\n",
        "  print(\"Yaşınızı rakam olarak giriniz!\")"
      ],
      "metadata": {
        "colab": {
          "base_uri": "https://localhost:8080/"
        },
        "id": "tjRzMgmpmqX6",
        "outputId": "9a38d537-1570-400e-be82-19be6f2f4992"
      },
      "execution_count": null,
      "outputs": [
        {
          "output_type": "stream",
          "name": "stdout",
          "text": [
            "Yaşınızı giriniz: nnnljlj\n",
            "Yaşınızı rakam olarak giriniz!\n"
          ]
        }
      ]
    },
    {
      "cell_type": "markdown",
      "source": [
        "Klavyeden girilen yaş bilgisini kullanarak ekrana aşağıdaki mesajları yazdır:\n",
        "\n",
        "21 yaş altı ve 64 yaş üstü kişilere: \"Sokağa çıkma yasağı bulunmaktadır!\"\n",
        "Diğer tüm kişilere: \"Sokağa çıkma yasağı yoktur!\"\n",
        "Klavyeden yaş harici bir bilgi girişi yapıldığında: \"Yaşınızı rakam olarak giriniz!\""
      ],
      "metadata": {
        "id": "DE1mkJRy2tpt"
      }
    },
    {
      "cell_type": "code",
      "source": [
        "try:\n",
        "  yas = int(input(\"Yaşınızı giriniz: \"))\n",
        "  if yas < 21 or yas >= 64:\n",
        "    print(\"Sokağa çıkma yasağı bulunmaktadır!\")\n",
        "  else:\n",
        "    print(\"Sokağa çıkma yasağı yoktur!\")\n",
        "except ValueError:\n",
        "  print(\"Yaşınızı rakam olarak giriniz!\")\n"
      ],
      "metadata": {
        "colab": {
          "base_uri": "https://localhost:8080/"
        },
        "id": "F_cjay3P1W0l",
        "outputId": "d268670e-bdbc-4663-e833-c997c997b8c0"
      },
      "execution_count": null,
      "outputs": [
        {
          "output_type": "stream",
          "name": "stdout",
          "text": [
            "Yaşınızı giriniz: bilge\n",
            "Yaşınızı rakam olarak giriniz!\n"
          ]
        }
      ]
    },
    {
      "cell_type": "code",
      "source": [
        "#IF, Elif ve Else çalışması\n",
        "menu = [\"1.Listele\",\"2.Kaydet\",\"3.Sil\",\"4.Güncelle\",\"5.Çıkış\"]\n",
        "print(menu)\n",
        "secim = int(input(\"Menüden seçim yapınız(1-5)\"))\n",
        "if secim == 1:\n",
        "  print(\"Listeleme işlemi gerçekleşiyor...\")\n",
        "  #Buraya listeleme kodları ya da fonksiyonu gelecek\n",
        "elif secim == 2:\n",
        "  print(\"Kaydetme işlemi gerçekleşiyor...\")\n",
        "  #Buraya kaydet kodları ya da fonksiyonu gelecek\n",
        "elif secim == 3:\n",
        "  print(\"Silme işlemi gerçekleşiyor...\")\n",
        "  #Buraya silme kodları ya da fonksiyonu gelecek\n",
        "elif secim == 4:\n",
        "  print(\"Güncelleme işlemi gerçekleşiyor...\")\n",
        "  #Buraya güncelleme kodları ya da fonksiyonu gelecek\n",
        "elif secim == 5:\n",
        "  print(\"Çıkış işlemi gerçekleşiyor...\")\n",
        "  #Buraya çıkış kodları ya da fonksiyonu gelecek\n",
        "else:\n",
        "  print(\"1 ile 5 arası bir rakam giriniz!\")"
      ],
      "metadata": {
        "colab": {
          "base_uri": "https://localhost:8080/"
        },
        "id": "gieZLxmLqmZG",
        "outputId": "137a76b2-bf75-42f5-e364-62920d5d76ab"
      },
      "execution_count": null,
      "outputs": [
        {
          "output_type": "stream",
          "name": "stdout",
          "text": [
            "['1.Listele', '2.Kaydet', '3.Sil', '4.Güncelle', '5.Çıkış']\n",
            "Menüden seçim yapınız(1-5)1\n",
            "Listeleme işlemi gerçekleşiyor...\n"
          ]
        }
      ]
    },
    {
      "cell_type": "code",
      "source": [
        "#If ile DY testi\n",
        "puan = 0\n",
        "sorular = [\"Birinci soru...\",\"İkinci soru...\",\"Üçüncü soru...\",\"Dördüncü soru...\",\"Beşinci soru...\"]\n",
        "cevaplar = [\"d\",\"d\",\"y\",\"y\",\"d\"]\n",
        "print(\"::: DY testine hoşgeldiniz :::\")\n",
        "print(\"------------------------------\")\n",
        "print(sorular[0])\n",
        "cevap = input(\"Cevabınızı giriniz(d/y): \")\n",
        "if cevap == cevaplar[0]:\n",
        "  puan +=1\n",
        "  print(\"Doğru bildiniz\")\n",
        "else:\n",
        "  print(\"Yanıtınız yanlış\")\n",
        "print(sorular[1])\n",
        "cevap = input(\"Cevabınızı giriniz(d/y): \")\n",
        "if cevap == cevaplar[1]:\n",
        "  puan +=1\n",
        "  print(\"Doğru bildiniz\")\n",
        "else:\n",
        "  print(\"Yanıtınız yanlış\")\n",
        "print(sorular[2])\n",
        "cevap = input(\"Cevabınızı giriniz(d/y): \")\n",
        "if cevap == cevaplar[2]:\n",
        "  puan +=1\n",
        "  print(\"Doğru bildiniz\")\n",
        "else:\n",
        "  print(\"Yanıtınız yanlış\")\n",
        "print(sorular[3])\n",
        "cevap = input(\"Cevabınızı giriniz(d/y): \")\n",
        "if cevap == cevaplar[3]:\n",
        "  puan +=1\n",
        "  print(\"Doğru bildiniz\")\n",
        "else:\n",
        "  print(\"Yanıtınız yanlış\")\n",
        "print(sorular[4])\n",
        "cevap = input(\"Cevabınızı giriniz(d/y): \")\n",
        "if cevap == cevaplar[4]:\n",
        "  puan +=1\n",
        "  print(\"Doğru bildiniz\")\n",
        "else:\n",
        "  print(\"Yanıtınız yanlış\")\n",
        "print(\"Testi tamamladınız!\")\n",
        "print(\"Puanınız: \" + str(puan))"
      ],
      "metadata": {
        "colab": {
          "base_uri": "https://localhost:8080/"
        },
        "id": "eANgnbUZpZGo",
        "outputId": "8264c8cc-d047-446c-fe0d-d4b25db464a2"
      },
      "execution_count": null,
      "outputs": [
        {
          "output_type": "stream",
          "name": "stdout",
          "text": [
            "::: DY testine hoşgeldiniz :::\n",
            "------------------------------\n",
            "Birinci soru...\n",
            "Cevabınızı giriniz(d/y): d\n",
            "Doğru bildiniz\n",
            "İkinci soru...\n",
            "Cevabınızı giriniz(d/y): y\n",
            "Yanıtınız yanlış\n",
            "Üçüncü soru...\n",
            "Cevabınızı giriniz(d/y): d\n",
            "Yanıtınız yanlış\n",
            "Dördüncü soru...\n",
            "Cevabınızı giriniz(d/y): k\n",
            "Yanıtınız yanlış\n",
            "Beşinci soru...\n",
            "Cevabınızı giriniz(d/y): d\n",
            "Doğru bildiniz\n",
            "Testi tamamladınız!\n",
            "Puanınız: 2\n"
          ]
        }
      ]
    },
    {
      "cell_type": "code",
      "source": [
        "#If ile Kullanıcı Adı ve Şifre kontrolü\n",
        "kullaniciAdi = \"bilgehari\"\n",
        "eposta = \"bilgeekayalak@gmail.com\"\n",
        "sifre = \"123456\"\n",
        "kulAdi = input (\"Kullanıcı adınızı giriniz: \")\n",
        "sfr = input(\"Şifre giriniz: \")\n",
        "if (kullaniciAdi == kulAdi or eposta == kulAdi) and sifre == sfr:\n",
        "  print(\"Sisteme girişiniz onaylandı!\")"
      ],
      "metadata": {
        "colab": {
          "base_uri": "https://localhost:8080/"
        },
        "id": "MY0PknIaL4j_",
        "outputId": "ea418c52-93d6-44fe-ab3d-2595c345d01f"
      },
      "execution_count": null,
      "outputs": [
        {
          "name": "stdout",
          "output_type": "stream",
          "text": [
            "Kullanıcı adınızı giriniz: bilgehari\n",
            "Şifre giriniz: 444444\n"
          ]
        }
      ]
    },
    {
      "cell_type": "code",
      "source": [
        "#Örnek uygulamayı çalıştır\n",
        "acikKavramlar = [\"bilim\", \"erişim\", \"veri\", \"eğitim\"]\n",
        "kavram = input (\"Bir açık kavramı yazın: \")\n",
        "if kavram in acikKavramlar:\n",
        "  print(\"***  ***  ***\")\n",
        "  print(kavram + \" açık kavramlar listesinde yer alıyor!\")\n",
        "  print(\"***  ***  ***\")\n",
        "  print(\"Program sonlandı!\")"
      ],
      "metadata": {
        "colab": {
          "base_uri": "https://localhost:8080/"
        },
        "id": "_VLDQ_vHKgpR",
        "outputId": "660dfbf6-198e-4095-a5be-b8e0d30ea185"
      },
      "execution_count": null,
      "outputs": [
        {
          "output_type": "stream",
          "name": "stdout",
          "text": [
            "Bir açık kavramı yazın: bilim\n",
            "***  ***  ***\n",
            "bilim açık kavramlar listesinde yer alıyor!\n",
            "***  ***  ***\n",
            "Program sonlandı!\n"
          ]
        }
      ]
    },
    {
      "cell_type": "code",
      "source": [
        "#İstenmeyen sözcük\n",
        "istenmeyen = \"aşk\"\n",
        "girilen = input(\"Test edilecek kelimeyi girin: \")\n",
        "print(istenmeyen != girilen)"
      ],
      "metadata": {
        "colab": {
          "base_uri": "https://localhost:8080/"
        },
        "id": "EC9ASqHZKAYM",
        "outputId": "ed8c75d3-1660-4ad3-ab3d-9153ef42658e"
      },
      "execution_count": null,
      "outputs": [
        {
          "output_type": "stream",
          "name": "stdout",
          "text": [
            "Test edilecek kelimeyi girin: love\n",
            "True\n"
          ]
        }
      ]
    },
    {
      "cell_type": "code",
      "source": [
        "#Kullanıcı adı ve şifre kontrol\n",
        "kullaniciAdi= \"bilgehari\"\n",
        "eposta= \"bilgeekayalak@gmail.com\"\n",
        "sifre = \"123456\"\n",
        "kulAdi = input (\"Kullanıcı adını giriniz: \")\n",
        "sfr = input ( \"Şifre giriniz: \")\n",
        "print((kullaniciAdi == kulAdi or eposta== kulAdi) and sifre == sfr)\n",
        "\n"
      ],
      "metadata": {
        "colab": {
          "base_uri": "https://localhost:8080/"
        },
        "id": "YVzfomKyIa6f",
        "outputId": "c011aead-926e-4644-afa0-e64105798fcd"
      },
      "execution_count": null,
      "outputs": [
        {
          "output_type": "stream",
          "name": "stdout",
          "text": [
            "Kullanıcı adını giriniz: bilgeekayalak@gmail.com\n",
            "Şifre giriniz: 123456\n",
            "True\n"
          ]
        }
      ]
    },
    {
      "cell_type": "code",
      "source": [
        "#Mantıksal ifadeler ile kelime tahmini\n",
        "print(\"Bizi bir noktadan diğer noktaya fiziksel olarak taşır\")\n",
        "cevap = input (\"Yukarıda yazan önermeye uygun araç ne olabilir? \")\n",
        "print(cevap == \"uçak\" or cevap == \"araba\" or cevap == \"bisiklet\" or cevap== \"at\" or cevap == \"eşek\")\n"
      ],
      "metadata": {
        "colab": {
          "base_uri": "https://localhost:8080/"
        },
        "id": "YNhQxpgIHECf",
        "outputId": "0dec6819-f652-4d73-9cd0-2bd3cf1f1225"
      },
      "execution_count": null,
      "outputs": [
        {
          "output_type": "stream",
          "name": "stdout",
          "text": [
            "Bizi bir noktadan diğer noktaya fiziksel olarak taşır\n",
            "Yukarıda yazan önermeye uygun araç ne olabilir? araba\n",
            "True\n"
          ]
        }
      ]
    },
    {
      "cell_type": "markdown",
      "source": [
        "Basit bir yapılacaklar listesi oluştur.\n"
      ],
      "metadata": {
        "id": "dT8ysh_JRgH5"
      }
    },
    {
      "cell_type": "code",
      "source": [
        "#Yapılacaklar listesi\n",
        "yapilacaklar= [\"Programlama dersine gir\", \"Faturaları yatır\"]\n"
      ],
      "metadata": {
        "id": "KxtEk02wRmFA"
      },
      "execution_count": null,
      "outputs": []
    },
    {
      "cell_type": "code",
      "source": [
        "#Yapılacak işleri giriniz\n",
        "isler = input(\"Yapılacak işi giriniz: \")\n"
      ],
      "metadata": {
        "colab": {
          "base_uri": "https://localhost:8080/"
        },
        "id": "AJbBusfGR9Zr",
        "outputId": "30398406-bad3-4187-c63e-785795fcc3a6"
      },
      "execution_count": null,
      "outputs": [
        {
          "name": "stdout",
          "output_type": "stream",
          "text": [
            "Yapılacak işi giriniz: Okula git\n"
          ]
        }
      ]
    },
    {
      "cell_type": "code",
      "source": [
        "#Yapılacak iş eklensin\n",
        "yapilacaklar.append(isler)\n"
      ],
      "metadata": {
        "id": "NM8h_ubmUfrY"
      },
      "execution_count": null,
      "outputs": []
    },
    {
      "cell_type": "code",
      "source": [
        "#Yapılacaklar listesinin son halini göster\n",
        "print(yapilacaklar)"
      ],
      "metadata": {
        "colab": {
          "base_uri": "https://localhost:8080/"
        },
        "id": "ZYVK9coQX8n1",
        "outputId": "8cb8c508-bb61-4530-b8f8-faeda4af900f"
      },
      "execution_count": null,
      "outputs": [
        {
          "output_type": "stream",
          "name": "stdout",
          "text": [
            "['Programlama dersine gir', 'Faturaları yatır', 'Okula git']\n"
          ]
        }
      ]
    },
    {
      "cell_type": "code",
      "source": [
        "#Yapılanları sil\n",
        "yapilacaklar[:1] = []\n",
        "print(yapilacaklar)"
      ],
      "metadata": {
        "colab": {
          "base_uri": "https://localhost:8080/"
        },
        "id": "ns9Te6GJq1hr",
        "outputId": "fa7194b8-46f2-4c1c-c102-763db745d93b"
      },
      "execution_count": null,
      "outputs": [
        {
          "output_type": "stream",
          "name": "stdout",
          "text": [
            "['Faturaları yatır', 'Kardeşini okuldan al']\n"
          ]
        }
      ]
    },
    {
      "cell_type": "code",
      "source": [
        "#Şimdi ise listeden yapmak istediğimiz işleri çıkaralım\n",
        "print(yapilacaklar)\n",
        "silinecek= int(input (\"Silmek istediğiniz işin sıra numarasını giriniz: \")) - 1\n",
        "silinecek2 = silinecek +1\n",
        "yapilacaklar[silinecek:silinecek2]= []\n",
        "print(yapilacaklar)"
      ],
      "metadata": {
        "colab": {
          "base_uri": "https://localhost:8080/"
        },
        "id": "gKb7asw9Rq_Z",
        "outputId": "43747abf-5484-4dc6-beb0-b7a8e4905145"
      },
      "execution_count": null,
      "outputs": [
        {
          "output_type": "stream",
          "name": "stdout",
          "text": [
            "['Programlama dersine gir', 'Faturaları yatır', 'Okula git']\n",
            "Silmek istediğiniz işin sıra numarasını giriniz: 1\n",
            "['Faturaları yatır', 'Okula git']\n"
          ]
        }
      ]
    },
    {
      "cell_type": "code",
      "source": [
        "#Yapılacak bir işi güncelleyin\n",
        "print(yapilacaklar)\n",
        "guncellenecek = int(input(\"Güncellemek istediğiniz için sıra numarasını giriniz: \"))-1\n",
        "guncelMetin = input(\"Yeni değeri giriniz: \")\n",
        "yapilacaklar[guncellenecek] = guncelMetin\n",
        "print(yapilacaklar)"
      ],
      "metadata": {
        "colab": {
          "base_uri": "https://localhost:8080/"
        },
        "id": "yOudfDf0ShQG",
        "outputId": "30516f00-049b-429a-a6a7-4fb4fa020452"
      },
      "execution_count": null,
      "outputs": [
        {
          "output_type": "stream",
          "name": "stdout",
          "text": [
            "['Faturaları yatır', 'Okula git']\n",
            "Güncellemek istediğiniz için sıra numarasını giriniz: 1\n",
            "Yeni değeri giriniz: Eczaneye git\n",
            "['Eczaneye git', 'Okula git']\n"
          ]
        }
      ]
    },
    {
      "cell_type": "markdown",
      "source": [
        "Yaş ortalaması 25 olan bir gruba yeni bir kişi katılacaktır. Bu kişinin yaş girmesi istenecek ve girilen yaşa göre eğer yaşı ortalamananın altında ise kabul edilecel (True), yaşı ortalamanın üzerinde ise kabul edilmeyecek ve cevap olarak ekrana (False) gelecektir."
      ],
      "metadata": {
        "id": "k5EOiSYUUnkL"
      }
    },
    {
      "cell_type": "code",
      "execution_count": null,
      "metadata": {
        "colab": {
          "base_uri": "https://localhost:8080/"
        },
        "id": "rM58YbJIRTL8",
        "outputId": "7fb6054e-0d76-4d80-e12e-8b0823d608fa"
      },
      "outputs": [
        {
          "output_type": "stream",
          "name": "stdout",
          "text": [
            "Yaşınızı Griniz: 25\n",
            "False\n"
          ]
        }
      ],
      "source": [
        "yasOrtalaması = 25\n",
        "yasınız = input (\"Yaşınızı Griniz: \")\n",
        "sonuc = (yasOrtalaması > int(yasınız))\n",
        "print(sonuc)"
      ]
    },
    {
      "cell_type": "markdown",
      "source": [
        "Steven Universe, Rebecca Sugar tarafından Cartoon Network için yapılan Amerikan yapımı bir çizgi dizisidir. Kristal Taşlar olan Garnet, Ametist ve İnci ile birlikte büyüyen ve dünyayı kendi türlerinden korumak için onlara yardım eden Steven adlı küçük bir çocuğun hikâyesini anlatır. Cartoon Network Stüdyoları'nın sanatçı-sürüşlü Kısa Program'ın bir parçası olan Steven Universe, bir kadın tarafından oluşturulan ilk Cartoon Network dizisidir ve Adventure Time'da çalıştığı sırada Rebecca Sugar tarafından geliştirilmiştir. Rebecca Sugar, erkek kardeşi Steven Sugar'dan esinlenerek çizgi filmi yapmıştır.\n",
        "\n"
      ],
      "metadata": {
        "id": "CIeN3xkNBKk0"
      }
    },
    {
      "cell_type": "code",
      "source": [
        "# Problem: Paragraf içinde yer alan metnin karakter sayısı 250'den büyükse ekrana True, küçükse False yazdır.\n",
        "\n",
        "paragraf = \"Steven Universe, Rebecca Sugar tarafından Cartoon Network için yapılan Amerikan yapımı bir çizgi dizisidir. Kristal Taşlar olan Garnet, Ametist ve İnci ile birlikte büyüyen ve dünyayı kendi türlerinden korumak için onlara yardım eden Steven adlı küçük bir çocuğun hikâyesini anlatır. Cartoon Network Stüdyoları'nın sanatçı-sürüşlü Kısa Program'ın bir parçası olan Steven Universe, bir kadın tarafından oluşturulan ilk Cartoon Network dizisidir ve Adventure Time'da çalıştığı sırada Rebecca Sugar tarafından geliştirilmiştir. Rebecca Sugar, erkek kardeşi Steven Sugar'dan esinlenerek çizgi filmi yapmıştır.\"\n",
        "karakterSayisi = len(paragraf)\n",
        "print(karakterSayisi)\n",
        "kontrol = karakterSayisi > 250\n",
        "print(kontrol)\n"
      ],
      "metadata": {
        "colab": {
          "base_uri": "https://localhost:8080/"
        },
        "id": "jEu6z3SiB-sU",
        "outputId": "3c2e1f9c-3153-4700-dfb0-ddeec0d36828"
      },
      "execution_count": null,
      "outputs": [
        {
          "output_type": "stream",
          "name": "stdout",
          "text": [
            "605\n",
            "True\n"
          ]
        }
      ]
    },
    {
      "cell_type": "markdown",
      "source": [
        "Netflix, gelirini çeşitlendirmek için farklı arayışlar içerisinde. Popüler akış hizmeti şifre paylaşımını sınırlandırmayı ve kaldırmayı hedeflerken geçtiğimiz kasım ayında getirdiği reklamlı abonelik modeliyle de gelirini çift yönlü olarak artırmayı planlıyor."
      ],
      "metadata": {
        "id": "IBDWpjz6DEK3"
      }
    },
    {
      "cell_type": "code",
      "source": [
        "#Problem: Bir haber metninde kullanıcının girdiği bir kelimenin yer alıp almadığını ekrana yazdırın!\n",
        "\n",
        "haber = \"Netflix, gelirini çeşitlendirmek için farklı arayışlar içerisinde. Popüler akış hizmeti şifre paylaşımını sınırlandırmayı ve kaldırmayı hedeflerken geçtiğimiz kasım ayında getirdiği reklamlı abonelik modeliyle de gelirini çift yönlü olarak artırmayı planlıyor.\"\n",
        "print(haber)\n",
        "arananKelime = input(\"Aranacak kelimeyi giriniz: \")\n",
        "sonuc= arananKelime.lower() in haber.lower()\n",
        "print(sonuc)"
      ],
      "metadata": {
        "colab": {
          "base_uri": "https://localhost:8080/"
        },
        "id": "OsgemPCGEC7j",
        "outputId": "40382ca3-2dc8-4823-bc0f-01f1b8e03445"
      },
      "execution_count": null,
      "outputs": [
        {
          "output_type": "stream",
          "name": "stdout",
          "text": [
            "Netflix, gelirini çeşitlendirmek için farklı arayışlar içerisinde. Popüler akış hizmeti şifre paylaşımını sınırlandırmayı ve kaldırmayı hedeflerken geçtiğimiz kasım ayında getirdiği reklamlı abonelik modeliyle de gelirini çift yönlü olarak artırmayı planlıyor.\n",
            "Aranacak kelimeyi giriniz: netflix\n",
            "True\n"
          ]
        }
      ]
    }
  ]
}