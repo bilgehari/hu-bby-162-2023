{
  "nbformat": 4,
  "nbformat_minor": 0,
  "metadata": {
    "colab": {
      "provenance": [],
      "authorship_tag": "ABX9TyOpEgQejppsNtPdPLbooz0B",
      "include_colab_link": true
    },
    "kernelspec": {
      "name": "python3",
      "display_name": "Python 3"
    },
    "language_info": {
      "name": "python"
    }
  },
  "cells": [
    {
      "cell_type": "markdown",
      "metadata": {
        "id": "view-in-github",
        "colab_type": "text"
      },
      "source": [
        "<a href=\"https://colab.research.google.com/github/bilgehari/hu-bby-162-2023/blob/main/proje02.ipynb\" target=\"_parent\"><img src=\"https://colab.research.google.com/assets/colab-badge.svg\" alt=\"Open In Colab\"/></a>"
      ]
    },
    {
      "cell_type": "markdown",
      "source": [
        "Oyunun sahip olması gereken özellikler:\n",
        "\n",
        "Oyun ilk başladığında kullanıcıya oynayacağı seviye sorulmalıdır:\n",
        "Basit seviye seçildiğinde 5 can,\n",
        "Orta seviye seçildiğinde 3 can,\n",
        "İleri seviye seçildiğinde 1 can belirlenerek oyunun oynanması sağlanmalıdır.\n",
        "Oyunda tahmin edilmesi gereken kelime ve o kelime ile ilgili ipucu bir sözlük yapısı içinde yer almalıdır. Oyun her çalıştırıldığında farklı bir sözcüğün tahmin edileceği yapı oluşturulmalıdır (örnekte olduğu gibi).\n",
        "Oyun, kelimenin doğru tahmini ya da can tükenmesi durumunda sonlandığında uygun dönüt verilmeli, oyunun yeniden oynanıp oynanmayacağı sorulmalıdır. Yeniden oynanmak istenirse oyun başlatılmalı, aksi halde program sonlanmalıdır."
      ],
      "metadata": {
        "id": "mu6x39PwU8AU"
      }
    },
    {
      "cell_type": "code",
      "execution_count": 3,
      "metadata": {
        "id": "zx2GvQyMUniB",
        "colab": {
          "base_uri": "https://localhost:8080/"
        },
        "outputId": "9509a509-25fa-46d2-e499-f2730a332016"
      },
      "outputs": [
        {
          "output_type": "stream",
          "name": "stdout",
          "text": [
            "Oynamak istediğiniz seviyeyi seçin (basit/orta/ileri): basit\n",
            "Kelime: ___\n",
            "İpucu: Sarı renkli meyve\n",
            "Kalan can: 5\n",
            "Bir harf tahmin edin: m\n",
            "Kelime: m__\n",
            "İpucu: Sarı renkli meyve\n",
            "Kalan can: 5\n",
            "Bir harf tahmin edin: u\n",
            "Kelime: mu_\n",
            "İpucu: Sarı renkli meyve\n",
            "Kalan can: 5\n",
            "Bir harf tahmin edin: s\n",
            "Yanlış tahmin!\n",
            "Kelime: mu_\n",
            "İpucu: Sarı renkli meyve\n",
            "Kalan can: 4\n",
            "Bir harf tahmin edin: z\n",
            "Tebrikler! Kelimeyi doğru tahmin ettiniz. Kelime: muz\n",
            "Yeniden oynamak istiyor musunuz? (evet/hayır): hayır\n",
            "Oyun sonlandırıldı.\n"
          ]
        }
      ],
      "source": [
        "import random\n",
        "\n",
        "# Kelimeler ve ipuçları için bir sözlük yapısı oluşturulması\n",
        "kelime_ipucu = {\n",
        "    \"çilek\": \"Kırmızı renkte bir meyve\",\n",
        "    \"masa\": \"Ders çalışmak için gerekli araç\",\n",
        "    \"muz\": \"Sarı renkli meyve\",\n",
        "    \"domates\": \"Salçanın ham maddesi olan meyve\",\n",
        "    \"havuç\": \"Tavşanların en sevdiği sebze\"\n",
        "}\n",
        "\n",
        "\n",
        "def adam_asmaca():\n",
        "    \n",
        "    seviye = input(\"Oynamak istediğiniz seviyeyi seçin (basit/orta/ileri): \")\n",
        "\n",
        "    if seviye == \"basit\":\n",
        "        can = 5\n",
        "    elif seviye == \"orta\":\n",
        "        can = 3\n",
        "    elif seviye == \"ileri\":\n",
        "        can = 1\n",
        "    else:\n",
        "        print(\"Geçersiz seviye seçimi!\")\n",
        "        return\n",
        "\n",
        "    \n",
        "    kelime = random.choice(list(kelime_ipucu.keys()))\n",
        "    ipucu = kelime_ipucu[kelime]\n",
        "\n",
        "    \n",
        "    tahmin_edilen = \"_\" * len(kelime)\n",
        "    tahmin_edilen_harf = set()\n",
        "\n",
        "   \n",
        "    while can > 0 and tahmin_edilen != kelime:\n",
        "        print(\"Kelime:\", tahmin_edilen)\n",
        "        print(\"İpucu:\", ipucu)\n",
        "        print(\"Kalan can:\", can)\n",
        "\n",
        "        tahmin = input(\"Bir harf tahmin edin: \").lower()\n",
        "\n",
        "        if tahmin in tahmin_edilen_harf:\n",
        "            print(\"Bu harfi zaten tahmin ettiniz.\")\n",
        "            continue\n",
        "\n",
        "        if tahmin in kelime:\n",
        "            for i in range(len(kelime)):\n",
        "                if kelime[i] == tahmin:\n",
        "                    tahmin_edilen = tahmin_edilen[:i] + tahmin + tahmin_edilen[i+1:]\n",
        "        else:\n",
        "            can -= 1\n",
        "            print(\"Yanlış tahmin!\")\n",
        "\n",
        "        tahmin_edilen_harf.add(tahmin)\n",
        "\n",
        "    \n",
        "    if tahmin_edilen == kelime:\n",
        "        print(\"Tebrikler! Kelimeyi doğru tahmin ettiniz. Kelime:\", kelime)\n",
        "    else:\n",
        "        print(\"Maalesef, canlarınız tükendi. Doğru kelime:\", kelime)\n",
        "\n",
        "    \n",
        "    tekrar = input(\"Yeniden oynamak istiyor musunuz? (evet/hayır): \")\n",
        "    if tekrar == \"evet\":\n",
        "        adam_asmaca()\n",
        "    else:\n",
        "        print(\"Oyun sonlandırıldı.\")\n",
        "\n",
        "\n",
        "adam_asmaca()\n"
      ]
    }
  ]
}