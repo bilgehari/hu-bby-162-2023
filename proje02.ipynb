{
  "nbformat": 4,
  "nbformat_minor": 0,
  "metadata": {
    "colab": {
      "provenance": [],
      "authorship_tag": "ABX9TyMF9aiqQYUKmPBSr3M1MP53",
      "include_colab_link": true
    },
    "kernelspec": {
      "name": "python3",
      "display_name": "Python 3"
    },
    "language_info": {
      "name": "python"
    }
  },
  "cells": [
    {
      "cell_type": "markdown",
      "metadata": {
        "id": "view-in-github",
        "colab_type": "text"
      },
      "source": [
        "<a href=\"https://colab.research.google.com/github/bilgehari/hu-bby-162-2023/blob/main/proje02.ipynb\" target=\"_parent\"><img src=\"https://colab.research.google.com/assets/colab-badge.svg\" alt=\"Open In Colab\"/></a>"
      ]
    },
    {
      "cell_type": "markdown",
      "source": [
        "Oyunun sahip olması gereken özellikler:\n",
        "\n",
        "Oyun ilk başladığında kullanıcıya oynayacağı seviye sorulmalıdır:\n",
        "Basit seviye seçildiğinde 5 can,\n",
        "Orta seviye seçildiğinde 3 can,\n",
        "İleri seviye seçildiğinde 1 can belirlenerek oyunun oynanması sağlanmalıdır.\n",
        "Oyunda tahmin edilmesi gereken kelime ve o kelime ile ilgili ipucu bir sözlük yapısı içinde yer almalıdır. Oyun her çalıştırıldığında farklı bir sözcüğün tahmin edileceği yapı oluşturulmalıdır (örnekte olduğu gibi).\n",
        "Oyun, kelimenin doğru tahmini ya da can tükenmesi durumunda sonlandığında uygun dönüt verilmeli, oyunun yeniden oynanıp oynanmayacağı sorulmalıdır. Yeniden oynanmak istenirse oyun başlatılmalı, aksi halde program sonlanmalıdır."
      ],
      "metadata": {
        "id": "mu6x39PwU8AU"
      }
    },
    {
      "cell_type": "code",
      "execution_count": null,
      "metadata": {
        "id": "zx2GvQyMUniB"
      },
      "outputs": [],
      "source": [
        "import random\n",
        "\n",
        "kelimeler = [\"yüzme\", \"koşu\", \"triatlon\", \"bisiklet\"]\n",
        "\n",
        "def adam_asmaca():\n",
        "    canlar = {\"Basit\": 5, \"Orta\": 3, \"İleri\": 1}\n",
        "    while True:\n",
        "        seviye = input(\"Oynamak istediğiniz seviyeyi seçiniz (Basit, Orta, İleri): \")\n",
        "        if seviye in canlar:\n",
        "            adamCan = canlar[seviye]\n",
        "            break\n",
        "        else:\n",
        "            print(\"Geçersiz seviye! Lütfen tekrar deneyin.\")\n",
        "    \n",
        "    kategori = random.choice(kelimeler)\n",
        "    secilenKelime = random.choice(kelimeler)\n",
        "    dizilenKelime = [\"_\" for harf in secilenKelime]\n",
        "    \n",
        "    print(\"Kategori: \", kategori)\n",
        "    print(\"İpucu: Kelimenin uzunluğu\", len(secilenKelime))\n",
        "    print(dizilenKelime)\n",
        "    \n",
        "    while adamCan > 0:\n",
        "        girilenHarf = input(\"Bir harf giriniz: \").lower()\n",
        "        if girilenHarf in secilenKelime:\n",
        "            for i in range(len(secilenKelime)):\n",
        "                if secilenKelime[i] == girilenHarf:\n",
        "                    dizilenKelime[i] = girilenHarf\n",
        "            if \"_\" not in dizilenKelime:\n",
        "                print(\"Tebrikler! Kelimeyi doğru tahmin ettiniz.\")\n",
        "                break\n",
        "        else:\n",
        "            adamCan -= 1\n",
        "            print(\"Yanlış tahmin! Kalan can:\", adamCan)\n",
        "        \n",
        "        print(dizilenKelime)\n",
        "    \n",
        "    if adamCan == 0:\n",
        "        print(\"Malesef, canlarınız tükendi. Doğru kelime:\", secilenKelime)\n",
        "    \n",
        "    yenidenOyna = input(\"Tekrar oynamak istiyor musunuz? (E/H)\").lower()\n",
        "    if yenidenOyna == \"e\":\n",
        "        adam_asmaca()\n",
        "    else:\n",
        "        print(\"Oynadığınız için teşekkürler!\")\n",
        "    \n",
        "adam_asmaca()"
      ]
    }
  ]
}