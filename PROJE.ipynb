{
  "nbformat": 4,
  "nbformat_minor": 0,
  "metadata": {
    "colab": {
      "provenance": [],
      "authorship_tag": "ABX9TyOaP2Dq3xyOFvt9tHzayBSA",
      "include_colab_link": true
    },
    "kernelspec": {
      "name": "python3",
      "display_name": "Python 3"
    },
    "language_info": {
      "name": "python"
    }
  },
  "cells": [
    {
      "cell_type": "markdown",
      "metadata": {
        "id": "view-in-github",
        "colab_type": "text"
      },
      "source": [
        "<a href=\"https://colab.research.google.com/github/bilgehari/hu-bby-162-2023/blob/main/PROJE.ipynb\" target=\"_parent\"><img src=\"https://colab.research.google.com/assets/colab-badge.svg\" alt=\"Open In Colab\"/></a>"
      ]
    },
    {
      "cell_type": "markdown",
      "source": [
        "\n",
        "Basit bir yapılacaklar listesi oluştur.\n",
        "\n"
      ],
      "metadata": {
        "id": "EOlMX6-FUy-n"
      }
    },
    {
      "cell_type": "code",
      "source": [
        "#Gün içinde yapılacaklar listesi\n",
        "yapilacaklar= [\"Programlama dersine gir\", \"Faturaları yatır\"]\n"
      ],
      "metadata": {
        "id": "KxtEk02wRmFA"
      },
      "execution_count": 28,
      "outputs": []
    },
    {
      "cell_type": "code",
      "source": [
        "#Yapılacak işleri giriniz\n",
        "isler = input(\"Yapılacak işi giriniz: \")\n"
      ],
      "metadata": {
        "id": "AJbBusfGR9Zr",
        "colab": {
          "base_uri": "https://localhost:8080/"
        },
        "outputId": "26188545-d9c1-42be-b814-9f8e227fe839"
      },
      "execution_count": 29,
      "outputs": [
        {
          "name": "stdout",
          "output_type": "stream",
          "text": [
            "Yapılacak işi giriniz: Derse gir\n"
          ]
        }
      ]
    },
    {
      "cell_type": "code",
      "source": [
        "#Yapılacaklara eklensin\n",
        "yapilacaklar.append(isler)\n"
      ],
      "metadata": {
        "id": "NM8h_ubmUfrY"
      },
      "execution_count": 30,
      "outputs": []
    },
    {
      "cell_type": "code",
      "source": [
        "#Yapılacaklar listesinin son halini göster\n",
        "print(yapilacaklar)"
      ],
      "metadata": {
        "colab": {
          "base_uri": "https://localhost:8080/"
        },
        "id": "ZYVK9coQX8n1",
        "outputId": "54437edf-c962-428c-913b-cdf711ff6ed4"
      },
      "execution_count": 31,
      "outputs": [
        {
          "output_type": "stream",
          "name": "stdout",
          "text": [
            "['Programlama dersine gir', 'Faturaları yatır', 'Derse gir']\n"
          ]
        }
      ]
    },
    {
      "cell_type": "code",
      "source": [
        "#Yapılanları sil\n",
        "yapilacaklar [:1]= []\n",
        "print(yapilacaklar)"
      ],
      "metadata": {
        "colab": {
          "base_uri": "https://localhost:8080/"
        },
        "id": "cbli_cRAoUqs",
        "outputId": "db626023-d2cf-4b7f-a69f-fa21268e3f7c"
      },
      "execution_count": 33,
      "outputs": [
        {
          "output_type": "stream",
          "name": "stdout",
          "text": [
            "['Faturaları yatır', 'Derse gir']\n"
          ]
        }
      ]
    }
  ]
}