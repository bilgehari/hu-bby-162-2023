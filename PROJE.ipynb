{
  "nbformat": 4,
  "nbformat_minor": 0,
  "metadata": {
    "colab": {
      "provenance": [],
      "authorship_tag": "ABX9TyOaP2Dq3xyOFvt9tHzayBSA",
      "include_colab_link": true
    },
    "kernelspec": {
      "name": "python3",
      "display_name": "Python 3"
    },
    "language_info": {
      "name": "python"
    }
  },
  "cells": [
    {
      "cell_type": "markdown",
      "metadata": {
        "id": "view-in-github",
        "colab_type": "text"
      },
      "source": [
        "<a href=\"https://colab.research.google.com/github/bilgehari/hu-bby-162-2023/blob/main/PROJE.ipynb\" target=\"_parent\"><img src=\"https://colab.research.google.com/assets/colab-badge.svg\" alt=\"Open In Colab\"/></a>"
      ]
    },
    {
      "cell_type": "markdown",
      "source": [
        "\n",
        "Basit bir yapılacaklar listesi oluştur.\n",
        "\n"
      ],
      "metadata": {
        "id": "EOlMX6-FUy-n"
      }
    },
    {
      "cell_type": "code",
      "source": [
        "#Gün içinde yapılacaklar listesi\n",
        "yapilacaklar= [\"Programlama dersine gir\", \"Faturaları yatır\"]\n"
      ],
      "metadata": {
        "id": "KxtEk02wRmFA"
      },
      "execution_count": 34,
      "outputs": []
    },
    {
      "cell_type": "code",
      "source": [
        "#Yapılacak işleri giriniz\n",
        "isler = input(\"Yapılacak işi giriniz: \")\n"
      ],
      "metadata": {
        "id": "AJbBusfGR9Zr",
        "colab": {
          "base_uri": "https://localhost:8080/"
        },
        "outputId": "d69353d2-d02d-480f-d668-7f6c37c45861"
      },
      "execution_count": 39,
      "outputs": [
        {
          "name": "stdout",
          "output_type": "stream",
          "text": [
            "Yapılacak işi giriniz: Ödev yap\n"
          ]
        }
      ]
    },
    {
      "cell_type": "code",
      "source": [
        "#Yapılacaklara eklensin\n",
        "yapilacaklar.append(isler)\n"
      ],
      "metadata": {
        "id": "NM8h_ubmUfrY"
      },
      "execution_count": 40,
      "outputs": []
    },
    {
      "cell_type": "code",
      "source": [
        "#Yapılacaklar listesinin son halini göster\n",
        "print(yapilacaklar)"
      ],
      "metadata": {
        "colab": {
          "base_uri": "https://localhost:8080/"
        },
        "id": "ZYVK9coQX8n1",
        "outputId": "6f077981-59c0-4a0a-f03c-8514b7e83298"
      },
      "execution_count": 41,
      "outputs": [
        {
          "output_type": "stream",
          "name": "stdout",
          "text": [
            "['Faturaları yatır', 'Kardeşini okuldan al', 'Ödev yap']\n"
          ]
        }
      ]
    },
    {
      "cell_type": "code",
      "source": [
        "#Yapılanları sil\n",
        "yapilacaklar [:1]= []\n",
        "print(yapilacaklar)"
      ],
      "metadata": {
        "colab": {
          "base_uri": "https://localhost:8080/"
        },
        "id": "cbli_cRAoUqs",
        "outputId": "712074ab-a9ee-40ae-cede-80965f2c7821"
      },
      "execution_count": 42,
      "outputs": [
        {
          "output_type": "stream",
          "name": "stdout",
          "text": [
            "['Kardeşini okuldan al', 'Ödev yap']\n"
          ]
        }
      ]
    }
  ]
}