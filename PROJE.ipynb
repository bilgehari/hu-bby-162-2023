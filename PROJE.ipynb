{
  "nbformat": 4,
  "nbformat_minor": 0,
  "metadata": {
    "colab": {
      "provenance": [],
      "authorship_tag": "ABX9TyORNVDpM9krv6zXM4OsiLS5",
      "include_colab_link": true
    },
    "kernelspec": {
      "name": "python3",
      "display_name": "Python 3"
    },
    "language_info": {
      "name": "python"
    }
  },
  "cells": [
    {
      "cell_type": "markdown",
      "metadata": {
        "id": "view-in-github",
        "colab_type": "text"
      },
      "source": [
        "<a href=\"https://colab.research.google.com/github/bilgehari/hu-bby-162-2023/blob/main/PROJE.ipynb\" target=\"_parent\"><img src=\"https://colab.research.google.com/assets/colab-badge.svg\" alt=\"Open In Colab\"/></a>"
      ]
    },
    {
      "cell_type": "markdown",
      "source": [
        "\n",
        "Basit bir yapılacaklar listesi oluştur.\n",
        "\n"
      ],
      "metadata": {
        "id": "EOlMX6-FUy-n"
      }
    },
    {
      "cell_type": "code",
      "source": [
        "#Gün içinde yapılacaklar listesi\n",
        "yapilacaklar= [\"Programlama dersine gir\", \"Faturaları yatır\", \"Ödevleri yap\", \"Çocuğu okuldan al\", \"Pazara git\"]\n"
      ],
      "metadata": {
        "id": "KxtEk02wRmFA"
      },
      "execution_count": null,
      "outputs": []
    },
    {
      "cell_type": "code",
      "source": [
        "#Yapılacak işleri giriniz\n",
        "isler = input(\"Yapılacak işi giriniz: \")\n"
      ],
      "metadata": {
        "id": "AJbBusfGR9Zr",
        "colab": {
          "base_uri": "https://localhost:8080/"
        },
        "outputId": "77f69def-576c-42b2-c26f-55f8fff04ee3"
      },
      "execution_count": null,
      "outputs": [
        {
          "name": "stdout",
          "output_type": "stream",
          "text": [
            "Yapılacak işi giriniz: Yemek yap\n"
          ]
        }
      ]
    },
    {
      "cell_type": "code",
      "source": [
        "#Yapılacaklara eklensin\n",
        "yapilacaklar.append(isler)\n"
      ],
      "metadata": {
        "id": "NM8h_ubmUfrY"
      },
      "execution_count": null,
      "outputs": []
    },
    {
      "cell_type": "code",
      "source": [
        "#Yapılacaklar listesinin son halini göster\n",
        "print(yapilacaklar)"
      ],
      "metadata": {
        "colab": {
          "base_uri": "https://localhost:8080/"
        },
        "id": "ZYVK9coQX8n1",
        "outputId": "01b852c1-0a85-49e9-aa6b-8dc4729c60fd"
      },
      "execution_count": null,
      "outputs": [
        {
          "output_type": "stream",
          "name": "stdout",
          "text": [
            "['Programlama dersine gir', 'Faturaları yatır', 'Ödevleri yap', 'Çocuğu okuldan al', 'Pazara git', 'Yemek yap']\n"
          ]
        }
      ]
    },
    {
      "cell_type": "code",
      "source": [
        "#Yapılanları sil\n",
        "yapilacaklar [:1]= []\n",
        "print(yapilacaklar)"
      ],
      "metadata": {
        "colab": {
          "base_uri": "https://localhost:8080/"
        },
        "id": "cbli_cRAoUqs",
        "outputId": "582b1d44-dcc1-4fbf-a603-30fa88e50b9c"
      },
      "execution_count": null,
      "outputs": [
        {
          "output_type": "stream",
          "name": "stdout",
          "text": [
            "['Faturaları yatır', 'Ödevleri yap', 'Çocuğu okuldan al', 'Pazara git', 'Yemek yap']\n"
          ]
        }
      ]
    },
    {
      "cell_type": "code",
      "source": [
        "#Hepsini sil\n",
        "yapilacaklar [:]= []\n",
        "print(yapilacaklar)"
      ],
      "metadata": {
        "colab": {
          "base_uri": "https://localhost:8080/"
        },
        "id": "PXfGGR2E9eZq",
        "outputId": "d31a7620-20a3-4a6c-9848-f92ee7d249d3"
      },
      "execution_count": null,
      "outputs": [
        {
          "output_type": "stream",
          "name": "stdout",
          "text": [
            "[]\n"
          ]
        }
      ]
    },
    {
      "cell_type": "code",
      "source": [
        "#Şimdi ise listeden yapmak istemediğimiz işleri çıkaralım. \n",
        "print(yapilacaklar)\n",
        "silinecek= int(input (\"Silmek istediğiniz işin sıra numarasını giriniz: \")) - 1\n",
        "silinecek2 = silinecek + 1 \n",
        "yapilacaklar[silinecek:silinecek2]= []\n",
        "print(yapilacaklar)"
      ],
      "metadata": {
        "colab": {
          "base_uri": "https://localhost:8080/"
        },
        "id": "7N2KaYZg1OyW",
        "outputId": "145233dc-bfff-4e89-91da-cd223b48246d"
      },
      "execution_count": null,
      "outputs": [
        {
          "output_type": "stream",
          "name": "stdout",
          "text": [
            "['Faturaları yatır', 'Ödevleri yap', 'Çocuğu okuldan al', 'Pazara git', 'Yemek yap']\n",
            "Silmek istediğiniz işin sıra numarasını giriniz: 2\n",
            "['Faturaları yatır', 'Çocuğu okuldan al', 'Pazara git', 'Yemek yap']\n"
          ]
        }
      ]
    },
    {
      "cell_type": "code",
      "source": [
        "print(yapilacaklar)\n",
        "guncellenecek = int(input (\"Güncellemek istediğiniz işin sıra numarasını giriniz: \")) - 1\n",
        "guncelMetin = input(\"Yeni değeri giriniz: \")\n",
        "yapilacaklar[guncellenecek] = guncelMetin\n",
        "print(yapilacaklar)"
      ],
      "metadata": {
        "colab": {
          "base_uri": "https://localhost:8080/"
        },
        "id": "lk1uI7Jf3jtP",
        "outputId": "63249c4f-49e1-48ea-c91b-8a5b7bdf3c3d"
      },
      "execution_count": null,
      "outputs": [
        {
          "output_type": "stream",
          "name": "stdout",
          "text": [
            "['Faturaları yatır', 'Çocuğu okuldan al', 'Pazara git', 'Yemek yap']\n",
            "Güncellemek istediğiniz işin sıra numarasını giriniz: 2\n",
            "Yeni değeri giriniz: Eczaneye git\n",
            "['Faturaları yatır', 'Eczaneye git', 'Pazara git', 'Yemek yap']\n"
          ]
        }
      ]
    }
  ]
}