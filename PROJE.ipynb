{
  "nbformat": 4,
  "nbformat_minor": 0,
  "metadata": {
    "colab": {
      "provenance": [],
      "authorship_tag": "ABX9TyP5rejMq/xWU9W6AjsJiHj3",
      "include_colab_link": true
    },
    "kernelspec": {
      "name": "python3",
      "display_name": "Python 3"
    },
    "language_info": {
      "name": "python"
    }
  },
  "cells": [
    {
      "cell_type": "markdown",
      "metadata": {
        "id": "view-in-github",
        "colab_type": "text"
      },
      "source": [
        "<a href=\"https://colab.research.google.com/github/bilgehari/hu-bby-162-2023/blob/main/PROJE.ipynb\" target=\"_parent\"><img src=\"https://colab.research.google.com/assets/colab-badge.svg\" alt=\"Open In Colab\"/></a>"
      ]
    },
    {
      "cell_type": "markdown",
      "source": [
        "\n",
        "Basit bir yapılacaklar listesi oluştur.\n",
        "\n"
      ],
      "metadata": {
        "id": "EOlMX6-FUy-n"
      }
    },
    {
      "cell_type": "code",
      "source": [
        "yapilacaklar= [\"Programlama dersine gir\", \"Faturaları yatır\"]\n"
      ],
      "metadata": {
        "id": "KxtEk02wRmFA"
      },
      "execution_count": 5,
      "outputs": []
    },
    {
      "cell_type": "code",
      "source": [
        "isler = input(\"Yapılacak işi giriniz: \")\n"
      ],
      "metadata": {
        "id": "AJbBusfGR9Zr",
        "colab": {
          "base_uri": "https://localhost:8080/"
        },
        "outputId": "53477eb6-c678-498d-c499-60da6f4cd78d"
      },
      "execution_count": 24,
      "outputs": [
        {
          "name": "stdout",
          "output_type": "stream",
          "text": [
            "Yapılacak işi giriniz: 2 bölüm Emily in Paris izle\n"
          ]
        }
      ]
    },
    {
      "cell_type": "code",
      "source": [
        "yapilacaklar.append(isler)\n"
      ],
      "metadata": {
        "id": "NM8h_ubmUfrY"
      },
      "execution_count": 25,
      "outputs": []
    },
    {
      "cell_type": "code",
      "source": [
        "print(yapilacaklar)"
      ],
      "metadata": {
        "colab": {
          "base_uri": "https://localhost:8080/"
        },
        "id": "ZYVK9coQX8n1",
        "outputId": "cdbde9a4-944b-4b0b-c532-94451853888c"
      },
      "execution_count": 26,
      "outputs": [
        {
          "output_type": "stream",
          "name": "stdout",
          "text": [
            "['Programlama dersine gir', 'Faturaları yatır', 'Kardeşini okuldan al', 'Kardeşinin ödevlerini yaptır', 'Akşam yemeğini yap', 'Bulaşıkları yıka', 'Ders çalış', 'Makale oku', '2 bölüm Emily in Paris izle']\n"
          ]
        }
      ]
    }
  ]
}