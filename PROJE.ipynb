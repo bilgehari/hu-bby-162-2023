{
  "nbformat": 4,
  "nbformat_minor": 0,
  "metadata": {
    "colab": {
      "provenance": [],
      "authorship_tag": "ABX9TyNC8Qm8qQv0uaKX4+Ux+bfm",
      "include_colab_link": true
    },
    "kernelspec": {
      "name": "python3",
      "display_name": "Python 3"
    },
    "language_info": {
      "name": "python"
    }
  },
  "cells": [
    {
      "cell_type": "markdown",
      "metadata": {
        "id": "view-in-github",
        "colab_type": "text"
      },
      "source": [
        "<a href=\"https://colab.research.google.com/github/bilgehari/hu-bby-162-2023/blob/main/PROJE.ipynb\" target=\"_parent\"><img src=\"https://colab.research.google.com/assets/colab-badge.svg\" alt=\"Open In Colab\"/></a>"
      ]
    },
    {
      "cell_type": "markdown",
      "source": [
        "\n",
        "Basit bir yapılacaklar listesi oluştur.\n",
        "\n"
      ],
      "metadata": {
        "id": "EOlMX6-FUy-n"
      }
    },
    {
      "cell_type": "code",
      "source": [
        "#Gün içinde yapılacaklar listesi\n",
        "yapilacaklar= [\"Programlama dersine gir\", \"Faturaları yatır\"]\n"
      ],
      "metadata": {
        "id": "KxtEk02wRmFA"
      },
      "execution_count": 2,
      "outputs": []
    },
    {
      "cell_type": "code",
      "source": [
        "#Yapılacak işleri giriniz\n",
        "isler = input(\"Yapılacak işi giriniz: \")\n"
      ],
      "metadata": {
        "id": "AJbBusfGR9Zr",
        "colab": {
          "base_uri": "https://localhost:8080/"
        },
        "outputId": "505a1a09-c997-465f-da99-3812618ea556"
      },
      "execution_count": 3,
      "outputs": [
        {
          "name": "stdout",
          "output_type": "stream",
          "text": [
            "Yapılacak işi giriniz: Kardeşini okuldan al\n"
          ]
        }
      ]
    },
    {
      "cell_type": "code",
      "source": [
        "#Yapılacaklara eklensin\n",
        "yapilacaklar.append(isler)\n"
      ],
      "metadata": {
        "id": "NM8h_ubmUfrY"
      },
      "execution_count": 4,
      "outputs": []
    },
    {
      "cell_type": "code",
      "source": [
        "#Yapılacaklar listesinin son halini göster\n",
        "print(yapilacaklar)"
      ],
      "metadata": {
        "colab": {
          "base_uri": "https://localhost:8080/"
        },
        "id": "ZYVK9coQX8n1",
        "outputId": "8ea51812-fe54-44d3-ff02-9b4b978e8e81"
      },
      "execution_count": 5,
      "outputs": [
        {
          "output_type": "stream",
          "name": "stdout",
          "text": [
            "['Programlama dersine gir', 'Faturaları yatır', 'Kardeşini okuldan al']\n"
          ]
        }
      ]
    },
    {
      "cell_type": "code",
      "source": [
        "#Yapılanları sil\n",
        "yapilacaklar [:1]= []\n",
        "print(yapilacaklar)"
      ],
      "metadata": {
        "colab": {
          "base_uri": "https://localhost:8080/"
        },
        "id": "cbli_cRAoUqs",
        "outputId": "73889f73-7bd4-4c56-95d3-f37872991705"
      },
      "execution_count": 6,
      "outputs": [
        {
          "output_type": "stream",
          "name": "stdout",
          "text": [
            "['Faturaları yatır', 'Kardeşini okuldan al']\n"
          ]
        }
      ]
    },
    {
      "cell_type": "code",
      "source": [
        "#Hepsini sil\n",
        "yapilacaklar [:]= []\n",
        "print(yapilacaklar)"
      ],
      "metadata": {
        "colab": {
          "base_uri": "https://localhost:8080/"
        },
        "id": "PXfGGR2E9eZq",
        "outputId": "1cdc472c-bca2-44ad-ea49-3986fdbfbfa6"
      },
      "execution_count": 7,
      "outputs": [
        {
          "output_type": "stream",
          "name": "stdout",
          "text": [
            "[]\n"
          ]
        }
      ]
    }
  ]
}